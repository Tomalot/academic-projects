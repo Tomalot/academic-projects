{
 "cells": [
  {
   "cell_type": "code",
   "execution_count": 1,
   "metadata": {},
   "outputs": [],
   "source": [
    "# Modules\n",
    "import PySimpleGUI as sg # pip install PySimpleGUI\n",
    "import os\n",
    "import os.path\n",
    "from os.path import exists\n",
    "import sqlite3\n",
    "import pandas as pd\n",
    "import json"
   ]
  },
  {
   "cell_type": "code",
   "execution_count": 4,
   "metadata": {},
   "outputs": [],
   "source": [
    "# Application\n",
    "sg.theme('Dark')\n",
    "\n",
    "# Functions\n",
    "def u_query():\n",
    "    conn = sqlite3.connect(values[0])\n",
    "    q = values[1]\n",
    "    df = pd.read_sql_query(q, conn)\n",
    "    return df\n",
    "\n",
    "# Columns\n",
    "file_slct = [\n",
    "    [\n",
    "        sg.Text('Select File:'), sg.In(size = (20, 1), enable_events = True), sg.FileBrowse()# Value [0]\n",
    "    ],\n",
    "    [\n",
    "        sg.Text('Query:'), sg.In(size = (60, 1), enable_events = True), sg.Button('Run', enable_events = True, size = (5, 1)) # Value [1]\n",
    "    ],\n",
    "    [\n",
    "        sg.Text('Output'), sg.Button('Test', size = (5, 1))\n",
    "    ],\n",
    "    [\n",
    "        sg.Output(size = (74, 25))\n",
    "    ]   \n",
    "]\n",
    "\n",
    "# Layout\n",
    "layout = [\n",
    "    [\n",
    "        sg.Column(file_slct)\n",
    "    ]\n",
    "]\n",
    "\n",
    "# Window Name and Variable Assignment\n",
    "window = sg.Window('SQL With Python - 0.0.1', layout)\n",
    "\n",
    "# Event Loop\n",
    "while True:\n",
    "    event, values = window.read()\n",
    "    if event == 'Exit' or event == sg.WIN_CLOSED:\n",
    "        break\n",
    "\n",
    "    if event == 'Run':\n",
    "        try:\n",
    "            u_query()\n",
    "            print(values[1])\n",
    "        except:\n",
    "            print('ERROR')\n",
    "    if event == 'Test':\n",
    "            print('Current Working Directory:', os.getcwd())\n",
    "           \n",
    "\n",
    "\n",
    "print(window)        \n",
    "\n",
    "# Close Window\n",
    "window.close()"
   ]
  }
 ],
 "metadata": {
  "kernelspec": {
   "display_name": "Python 3.10.5 64-bit (windows store)",
   "language": "python",
   "name": "python3"
  },
  "language_info": {
   "codemirror_mode": {
    "name": "ipython",
    "version": 3
   },
   "file_extension": ".py",
   "mimetype": "text/x-python",
   "name": "python",
   "nbconvert_exporter": "python",
   "pygments_lexer": "ipython3",
   "version": "3.10.5"
  },
  "orig_nbformat": 4,
  "vscode": {
   "interpreter": {
    "hash": "6f3f2415ea2741fefa6759691261654a79a6f8de7b7540d8d63c2e98b31a74d1"
   }
  }
 },
 "nbformat": 4,
 "nbformat_minor": 2
}

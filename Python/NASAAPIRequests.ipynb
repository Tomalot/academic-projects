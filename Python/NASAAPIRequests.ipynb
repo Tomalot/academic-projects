{
 "cells": [
  {
   "cell_type": "code",
   "execution_count": 2,
   "metadata": {},
   "outputs": [],
   "source": [
    "import json\n",
    "import requests\n",
    "import sqlalchemy\n",
    "import pandas as pd\n",
    "import numpy as np\n",
    "import boto3"
   ]
  },
  {
   "cell_type": "markdown",
   "metadata": {},
   "source": [
    "API End Point Reference\n",
    "Geomagnetic Storm (GST)\n",
    "    startDate: default to 30 days prior to current UTC date\n",
    "    endDate: default to current UTC date\n",
    "    example: https://api.nasa.gov/DONKI/GST?startDate=yyyy-MM-dd&endDate=yyyy-MM-dd&api_key=DEMO_KEY\n",
    "Solar Flare (FLR) \n",
    "    startDate: default to 30 days prior to current UTC date\n",
    "    endDate: default to current UTC date\n",
    "    example: https://api.nasa.gov/DONKI/FLR?startDate=yyyy-MM-dd&endDate=yyyy-MM-dd&api_key=DEMO_KEY\n",
    "Fireball Data API\n",
    "    https://ssd-api.jpl.nasa.gov/fireball.api"
   ]
  },
  {
   "cell_type": "markdown",
   "metadata": {},
   "source": [
    "\n",
    "count\tfields\tdata\tsignature.source\tsignature.version"
   ]
  },
  {
   "cell_type": "code",
   "execution_count": 134,
   "metadata": {},
   "outputs": [],
   "source": [
    "# EXTRACT\n",
    "\n",
    "# Requesting data from API endpoint\n",
    "r = requests.get('https://ssd-api.jpl.nasa.gov/fireball.api')\n",
    "\n",
    "# Reading request data into json format\n",
    "data = r.json()\n",
    "\n",
    "# Creating list of header names.\n",
    "fields = {\n",
    "0 :'date_time',\n",
    "1 :'energy',\n",
    "2 :'impact-e',\n",
    "3 :'latitude',\n",
    "4 :'lat-direction',\n",
    "5 :'longitude',\n",
    "6 :'lon-direction',\n",
    "7 :'altitude',\n",
    "8 :'velocity'\n",
    "}\n",
    "\n",
    "# Flattening semi-structured json. \n",
    "data = pd.json_normalize(data,record_path=['data'])\n",
    "\n",
    "# Renaming column headers.\n",
    "data = data.rename(columns = fields)\n",
    "\n",
    "# Saving DF to CSV.\n",
    "data.to_csv(r'C:\\Users\\Trame\\Documents\\Fullstack Academy\\Capstone\\NASA\\Fireball.csv')\n",
    "\n"
   ]
  }
 ],
 "metadata": {
  "kernelspec": {
   "display_name": "Python 3.10.6 64-bit",
   "language": "python",
   "name": "python3"
  },
  "language_info": {
   "codemirror_mode": {
    "name": "ipython",
    "version": 3
   },
   "file_extension": ".py",
   "mimetype": "text/x-python",
   "name": "python",
   "nbconvert_exporter": "python",
   "pygments_lexer": "ipython3",
   "version": "3.10.6"
  },
  "orig_nbformat": 4,
  "vscode": {
   "interpreter": {
    "hash": "369f2c481f4da34e4445cda3fffd2e751bd1c4d706f27375911949ba6bb62e1c"
   }
  }
 },
 "nbformat": 4,
 "nbformat_minor": 2
}

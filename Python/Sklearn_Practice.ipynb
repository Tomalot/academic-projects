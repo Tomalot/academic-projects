{
 "cells": [
  {
   "cell_type": "code",
   "execution_count": 60,
   "id": "28028a78",
   "metadata": {},
   "outputs": [
    {
     "data": {
      "text/html": [
       "<div>\n",
       "<style scoped>\n",
       "    .dataframe tbody tr th:only-of-type {\n",
       "        vertical-align: middle;\n",
       "    }\n",
       "\n",
       "    .dataframe tbody tr th {\n",
       "        vertical-align: top;\n",
       "    }\n",
       "\n",
       "    .dataframe thead th {\n",
       "        text-align: right;\n",
       "    }\n",
       "</style>\n",
       "<table border=\"1\" class=\"dataframe\">\n",
       "  <thead>\n",
       "    <tr style=\"text-align: right;\">\n",
       "      <th></th>\n",
       "      <th>Preg</th>\n",
       "      <th>Gluc</th>\n",
       "      <th>Dias</th>\n",
       "      <th>Tric</th>\n",
       "      <th>2hSer</th>\n",
       "      <th>BM1</th>\n",
       "      <th>Diab</th>\n",
       "      <th>Age</th>\n",
       "      <th>Diab.1</th>\n",
       "    </tr>\n",
       "  </thead>\n",
       "  <tbody>\n",
       "    <tr>\n",
       "      <th>0</th>\n",
       "      <td>6</td>\n",
       "      <td>148</td>\n",
       "      <td>72</td>\n",
       "      <td>35</td>\n",
       "      <td>0</td>\n",
       "      <td>33.6</td>\n",
       "      <td>0.627</td>\n",
       "      <td>50</td>\n",
       "      <td>1</td>\n",
       "    </tr>\n",
       "    <tr>\n",
       "      <th>1</th>\n",
       "      <td>1</td>\n",
       "      <td>85</td>\n",
       "      <td>66</td>\n",
       "      <td>29</td>\n",
       "      <td>0</td>\n",
       "      <td>26.6</td>\n",
       "      <td>0.351</td>\n",
       "      <td>31</td>\n",
       "      <td>0</td>\n",
       "    </tr>\n",
       "    <tr>\n",
       "      <th>2</th>\n",
       "      <td>8</td>\n",
       "      <td>183</td>\n",
       "      <td>64</td>\n",
       "      <td>0</td>\n",
       "      <td>0</td>\n",
       "      <td>23.3</td>\n",
       "      <td>0.672</td>\n",
       "      <td>32</td>\n",
       "      <td>1</td>\n",
       "    </tr>\n",
       "    <tr>\n",
       "      <th>3</th>\n",
       "      <td>1</td>\n",
       "      <td>89</td>\n",
       "      <td>66</td>\n",
       "      <td>23</td>\n",
       "      <td>94</td>\n",
       "      <td>28.1</td>\n",
       "      <td>0.167</td>\n",
       "      <td>21</td>\n",
       "      <td>0</td>\n",
       "    </tr>\n",
       "    <tr>\n",
       "      <th>4</th>\n",
       "      <td>0</td>\n",
       "      <td>137</td>\n",
       "      <td>40</td>\n",
       "      <td>35</td>\n",
       "      <td>168</td>\n",
       "      <td>43.1</td>\n",
       "      <td>2.288</td>\n",
       "      <td>33</td>\n",
       "      <td>1</td>\n",
       "    </tr>\n",
       "  </tbody>\n",
       "</table>\n",
       "</div>"
      ],
      "text/plain": [
       "   Preg   Gluc  Dias  Tric  2hSer   BM1   Diab  Age  Diab.1\n",
       "0      6   148    72    35      0  33.6  0.627   50       1\n",
       "1      1    85    66    29      0  26.6  0.351   31       0\n",
       "2      8   183    64     0      0  23.3  0.672   32       1\n",
       "3      1    89    66    23     94  28.1  0.167   21       0\n",
       "4      0   137    40    35    168  43.1  2.288   33       1"
      ]
     },
     "execution_count": 60,
     "metadata": {},
     "output_type": "execute_result"
    }
   ],
   "source": [
    "# Do imports and examine the data\n",
    "import numpy as np\n",
    "from sklearn.linear_model import LinearRegression\n",
    "import pandas as pd\n",
    "pima = pd.read_csv((\"https://raw.githubusercontent.com/PyDataWorkshop/datasets/master/pima.csv\"))\n",
    "pima.head()"
   ]
  },
  {
   "cell_type": "code",
   "execution_count": 62,
   "id": "1df9eba1",
   "metadata": {},
   "outputs": [
    {
     "name": "stdout",
     "output_type": "stream",
     "text": [
      "Predictions:  [31.90601943 33.05978704 34.0305779  22.45225251 27.8409904 ] \n",
      " Actual: \n",
      " 400    31\n",
      "106    27\n",
      "31     28\n",
      "680    22\n",
      "163    21\n",
      "Name: Age, dtype: int64 \n",
      " Slope:  [ 1.58514596  0.08984874  0.0980163  -0.07197596 -0.00621193 -0.0071732\n",
      "  1.42496533] Intercept:  10.756884565281613\n"
     ]
    }
   ],
   "source": [
    "# Set up linear regression\n",
    "# Initialize an empty linear regression variable\n",
    "reg = LinearRegression()\n",
    "\n",
    "# Train test split with 80% of the data used for training, 20% for testing\n",
    "from sklearn.model_selection import train_test_split\n",
    "train, test = train_test_split(pima, test_size = 0.2)\n",
    "\n",
    "# Pick the glucose column as a feature variable (predictor)\n",
    "train_feat = train.iloc[:,:7]\n",
    "\n",
    "# Pick the age column as a target variable (response)\n",
    "train_targ = train[\"Age\"]\n",
    "\n",
    "# Fit the model\n",
    "reg.fit(train_feat, train_targ)\n",
    "\n",
    "# Test variables\n",
    "test_feat = test.iloc[:,:7]\n",
    "\n",
    "# test_feat = np.array(test.iloc[:,1]).reshape(-1, 1)\n",
    "test_targ = test[\"Age\"]\n",
    "\n",
    "# Predict the age of patients for the first five glucose values\n",
    "print(\"Predictions: \", reg.predict(test_feat)[0:5], \"\\n\", \"Actual: \\n\", test_targ[0:5], \"\\n\", \"Slope: \", reg.coef_, \"Intercept: \", reg.intercept_)"
   ]
  },
  {
   "cell_type": "code",
   "execution_count": null,
   "id": "bd40b24d",
   "metadata": {},
   "outputs": [],
   "source": [
    "# Set up logistic regression\n",
    "# Import from sklearn - this may need to be installed first\n",
    "from sklearn.linear_model import LogisticRegression\n",
    "\n",
    "# Initialize an empty logistic regression variable\n",
    "lr = LogisticRegression()\n",
    "\n",
    "# Train test split with 80% of the data used for training, 20% for testing\n",
    "from sklearn.model_selection import train_test_split\n",
    "train, test = train_test_split(pima, test_size = 0.2)\n",
    "\n",
    "# Subset all the columns besides Diab.1\n",
    "train_feat = train.iloc[:,:8]\n",
    "\n",
    "# Subset just the Diab.1 column\n",
    "train_targ = train[\"Diab.1\"]\n",
    "\n",
    "# Populate our null variable with predictions\n",
    "lr.fit(train_feat, train_targ)\n",
    "\n",
    "# Subset all the columns in Test besides Diab.1\n",
    "test_feat = test.iloc[:,:8]\n",
    "\n",
    "# Subset just the Diab.1 column\n",
    "test_targ = test ['Diab.1']\n",
    "\n",
    "# See how accurate the model is\n",
    "lr.score(test_feat, test_targ)\n",
    "\n",
    "# Plot a confusion matrix for more details\n",
    "lr.predict(test_feat)\n",
    "from sklearn.metrics import confusion_matrix\n",
    "confusion_matrix(lr.predict(train_feat), train_targ)"
   ]
  },
  {
   "cell_type": "code",
   "execution_count": 76,
   "id": "d393c9db",
   "metadata": {},
   "outputs": [
    {
     "name": "stderr",
     "output_type": "stream",
     "text": [
      "/Users/melgoss/opt/anaconda3/lib/python3.9/site-packages/sklearn/svm/_base.py:985: ConvergenceWarning: Liblinear failed to converge, increase the number of iterations.\n",
      "  warnings.warn(\"Liblinear failed to converge, increase \"\n"
     ]
    },
    {
     "data": {
      "text/plain": [
       "array([[98,  7],\n",
       "       [ 3, 46]])"
      ]
     },
     "execution_count": 76,
     "metadata": {},
     "output_type": "execute_result"
    }
   ],
   "source": [
    "# Different Algorithms\n",
    "# Import three new models\n",
    "from sklearn.svm import LinearSVC \n",
    "from sklearn.neural_network import MLPClassifier \n",
    "from sklearn.ensemble import RandomForestClassifier\n",
    "\n",
    "# Initialize the models\n",
    "svm=LinearSVC()\n",
    "mlp = MLPClassifier()\n",
    "rf=RandomForestClassifier()\n",
    "\n",
    "# Train test split\n",
    "train, test = train_test_split(pima, test_size=.2)  \n",
    "train_feat = train.iloc[:, :8]\n",
    "train_targ = train[\"Diab.1\"]\n",
    "\n",
    "# Fit the models\n",
    "svm.fit(train_feat, train_targ)\n",
    "mlp.fit(train_feat, train_targ)\n",
    "rf.fit(train_feat, train_targ)\n",
    "\n",
    "# Examine the scores\n",
    "svm.score(test_feat, test_targ)\n",
    "mlp.score(test_feat, test_targ)\n",
    "rf.score(test_feat, test_targ)\n",
    "\n",
    "# Confusion matricex\n",
    "confusion_matrix(rf.predict(test_feat),test_targ)\n"
   ]
  }
 ],
 "metadata": {
  "kernelspec": {
   "display_name": "Python 3.10.6 64-bit",
   "language": "python",
   "name": "python3"
  },
  "language_info": {
   "codemirror_mode": {
    "name": "ipython",
    "version": 3
   },
   "file_extension": ".py",
   "mimetype": "text/x-python",
   "name": "python",
   "nbconvert_exporter": "python",
   "pygments_lexer": "ipython3",
   "version": "3.10.6"
  },
  "vscode": {
   "interpreter": {
    "hash": "369f2c481f4da34e4445cda3fffd2e751bd1c4d706f27375911949ba6bb62e1c"
   }
  }
 },
 "nbformat": 4,
 "nbformat_minor": 5
}

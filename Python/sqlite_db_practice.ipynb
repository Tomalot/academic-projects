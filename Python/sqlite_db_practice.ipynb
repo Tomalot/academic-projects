{
 "cells": [
  {
   "cell_type": "code",
   "execution_count": 1,
   "metadata": {},
   "outputs": [
    {
     "data": {
      "text/plain": [
       "<function __main__.close_conn()>"
      ]
     },
     "execution_count": 1,
     "metadata": {},
     "output_type": "execute_result"
    }
   ],
   "source": [
    "import sqlite3\n",
    "\n",
    "def db_conn():\n",
    "    # Connecting to a database and creating cursor object for SQL query statements.\n",
    "    # URI = 'Uniform Resource Identifier'\n",
    "    global connection\n",
    "    connection = sqlite3.connect('CurrentweatherDB.db', uri = True)\n",
    "    print('Connection to database successful.....')\n",
    "    connection.cursor()\n",
    "    return connection\n",
    "\n",
    "\n",
    "def close_conn():\n",
    "    # Closing the connection with the database.\n",
    "    connection.commit()\n",
    "    connection.close()\n",
    "\n",
    "close_conn"
   ]
  }
 ],
 "metadata": {
  "kernelspec": {
   "display_name": "Python 3.10.6 64-bit",
   "language": "python",
   "name": "python3"
  },
  "language_info": {
   "codemirror_mode": {
    "name": "ipython",
    "version": 3
   },
   "file_extension": ".py",
   "mimetype": "text/x-python",
   "name": "python",
   "nbconvert_exporter": "python",
   "pygments_lexer": "ipython3",
   "version": "3.10.6"
  },
  "orig_nbformat": 4,
  "vscode": {
   "interpreter": {
    "hash": "369f2c481f4da34e4445cda3fffd2e751bd1c4d706f27375911949ba6bb62e1c"
   }
  }
 },
 "nbformat": 4,
 "nbformat_minor": 2
}

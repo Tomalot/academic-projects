{
 "cells": [
  {
   "cell_type": "code",
   "execution_count": 4,
   "metadata": {},
   "outputs": [],
   "source": [
    "import pandas as pd\n",
    "import os\n",
    "import json\n",
    "from pandas import json_normalize\n",
    "\n",
    "\n",
    "\n",
    "with open(r'C:\\Users\\Trame\\Documents\\Fullstack Academy\\Projects\\coordinates', 'r') as JSON:\n",
    "        json_dict = json.load(JSON)\n",
    "\n",
    "json_dict = pd.json_normalize(json_dict,'markers')\n",
    "\n",
    "json_dict.columns\n",
    "\n",
    "fltr_json = json_dict[[ \n",
    "    'Title',  \n",
    "    'id',\n",
    "    'lat', \n",
    "    'lng', \n",
    "    'title',\n",
    "    'book',\n",
    "    'viewpoint',\n",
    "    'desc',\n",
    "    'quote',\n",
    "    'legend_name'\n",
    "]]\n",
    "\n",
    "fltr_json.to_csv(r'C:\\Users\\Trame\\Documents\\Fullstack Academy\\Projects\\invictus_data.csv',mode = 'w+', header = True, index = True)"
   ]
  }
 ],
 "metadata": {
  "kernelspec": {
   "display_name": "Python 3.10.6 64-bit",
   "language": "python",
   "name": "python3"
  },
  "language_info": {
   "codemirror_mode": {
    "name": "ipython",
    "version": 3
   },
   "file_extension": ".py",
   "mimetype": "text/x-python",
   "name": "python",
   "nbconvert_exporter": "python",
   "pygments_lexer": "ipython3",
   "version": "3.10.6"
  },
  "orig_nbformat": 4,
  "vscode": {
   "interpreter": {
    "hash": "369f2c481f4da34e4445cda3fffd2e751bd1c4d706f27375911949ba6bb62e1c"
   }
  }
 },
 "nbformat": 4,
 "nbformat_minor": 2
}
